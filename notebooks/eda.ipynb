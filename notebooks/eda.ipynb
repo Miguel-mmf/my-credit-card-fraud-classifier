{
 "cells": [
  {
   "cell_type": "markdown",
   "id": "6c42fcfd",
   "metadata": {},
   "source": [
    "# EDA\n",
    "___\n",
    "\n",
    "This `.ipynb` file will be used for..."
   ]
  },
  {
   "cell_type": "markdown",
   "id": "4f5a97d2",
   "metadata": {},
   "source": [
    "## Import packages"
   ]
  },
  {
   "cell_type": "code",
   "execution_count": null,
   "id": "beb2a694",
   "metadata": {},
   "outputs": [],
   "source": [
    "import sys\n",
    "sys.path.append('../')\n",
    "\n",
    "import seaborn as sns\n",
    "import pandas as pd\n",
    "import matplotlib.pyplot as plt\n",
    "import plotly.graph_objects as go\n",
    "from plotly.subplots import make_subplots\n",
    "from sklearn.model_selection import train_test_split\n",
    "from sklearn.metrics import roc_curve, auc\n",
    "from sklearn.linear_model import LogisticRegression\n",
    "# from sklearn.model_selection import KFold\n",
    "\n",
    "from utils.read_data import read_data"
   ]
  },
  {
   "cell_type": "code",
   "execution_count": null,
   "id": "b9bedbc5",
   "metadata": {},
   "outputs": [],
   "source": [
    "SEED: int = 8"
   ]
  },
  {
   "cell_type": "markdown",
   "id": "074e37da",
   "metadata": {},
   "source": [
    "## Reading data"
   ]
  },
  {
   "cell_type": "code",
   "execution_count": null,
   "id": "aa388ef9",
   "metadata": {},
   "outputs": [],
   "source": [
    "DATASET_PATH =\"../dataset/\""
   ]
  },
  {
   "cell_type": "code",
   "execution_count": null,
   "id": "3a02aa04",
   "metadata": {},
   "outputs": [],
   "source": [
    "df = read_data(DATASET_PATH)\n",
    "df.head()"
   ]
  },
  {
   "cell_type": "code",
   "execution_count": null,
   "id": "8b01d4de",
   "metadata": {},
   "outputs": [],
   "source": [
    "df.info(memory_usage='deep')"
   ]
  },
  {
   "cell_type": "code",
   "execution_count": null,
   "id": "6d7ab2d2",
   "metadata": {},
   "outputs": [],
   "source": [
    "df.describe().T"
   ]
  },
  {
   "cell_type": "code",
   "execution_count": null,
   "id": "ce2ac95d",
   "metadata": {},
   "outputs": [],
   "source": [
    "# Transform column names to lowercase\n",
    "df.columns = df.columns.str.lower()\n",
    "df.columns"
   ]
  },
  {
   "cell_type": "markdown",
   "id": "7695618e",
   "metadata": {},
   "source": [
    "## Exploratory Data Analysis"
   ]
  },
  {
   "cell_type": "markdown",
   "id": "f474c741",
   "metadata": {},
   "source": [
    "### Valores faltantes"
   ]
  },
  {
   "cell_type": "code",
   "execution_count": null,
   "id": "2fb8b04c",
   "metadata": {},
   "outputs": [],
   "source": [
    "df.isnull().any()"
   ]
  },
  {
   "cell_type": "markdown",
   "id": "e13ee133",
   "metadata": {},
   "source": [
    "### Relationship between fraudulent and no fraudulent transactions"
   ]
  },
  {
   "cell_type": "code",
   "execution_count": null,
   "id": "977eb01b",
   "metadata": {},
   "outputs": [],
   "source": [
    "df[\"class\"].value_counts(normalize=True)*100"
   ]
  },
  {
   "cell_type": "markdown",
   "id": "9b7e53ba",
   "metadata": {},
   "source": [
    "### Distribuition by column"
   ]
  },
  {
   "cell_type": "code",
   "execution_count": null,
   "id": "6bc89de2",
   "metadata": {},
   "outputs": [],
   "source": [
    "df.hist(figsize=(20, 18), bins=50) # [[f'v{i}' for i in range(1, 29)]]\n",
    "plt.tight_layout()\n",
    "plt.show()"
   ]
  },
  {
   "cell_type": "code",
   "execution_count": null,
   "id": "6cb8c152",
   "metadata": {},
   "outputs": [],
   "source": [
    "features = [f'v{i}' for i in range(1, 29)]\n",
    "fig = go.Figure()\n",
    "\n",
    "for i, col in enumerate(features):\n",
    "    visible = True if i == 0 else 'legendonly'\n",
    "    fig.add_trace(\n",
    "        go.Histogram(\n",
    "            x=df[col],\n",
    "            name=col,\n",
    "            visible=visible,\n",
    "            # opacity=0.75,\n",
    "            nbinsx=50\n",
    "        )\n",
    "    )\n",
    "\n",
    "fig.update_layout(\n",
    "    title=\"Distribution of Features (v1-v28)\",\n",
    "    xaxis_title=\"Value\",\n",
    "    yaxis_title=\"Count\",\n",
    "    barmode='overlay',\n",
    "    margin=dict(l=20, r=20, t=50, b=20),\n",
    ")\n",
    "fig.show()\n",
    "\n",
    "fig.write_html('images/eda_distribution_features.html')"
   ]
  },
  {
   "cell_type": "code",
   "execution_count": null,
   "id": "0692885a",
   "metadata": {},
   "outputs": [],
   "source": [
    "non_feature_cols = [col for col in df.columns if col not in features]\n",
    "fig = make_subplots(rows=1, cols=2, subplot_titles=non_feature_cols)\n",
    "\n",
    "for i, col in enumerate(non_feature_cols):\n",
    "    fig.add_trace(\n",
    "        go.Histogram(\n",
    "            x=df[col],\n",
    "            name=col,\n",
    "            opacity=0.75,\n",
    "            nbinsx=50,\n",
    "            showlegend=False\n",
    "        ),\n",
    "        row=1, col=i+1\n",
    "    )\n",
    "\n",
    "fig.update_layout(\n",
    "    title_text=\"Distribution of Amount and Class Features (non-v1-v28)\",\n",
    "    margin=dict(l=20, r=20, t=50, b=20),\n",
    ")\n",
    "fig.show()\n",
    "\n",
    "fig.write_html('images/eda_distribution_features_non_v1_v28_subplots.html')"
   ]
  },
  {
   "cell_type": "markdown",
   "id": "d17e2dd7",
   "metadata": {},
   "source": [
    "### Feature importance"
   ]
  },
  {
   "cell_type": "code",
   "execution_count": null,
   "id": "48a8c717",
   "metadata": {},
   "outputs": [],
   "source": [
    "df_full_train, df_test = train_test_split(df, test_size=.2, random_state=SEED)\n",
    "df_train, df_val = train_test_split(df_full_train, test_size=.15, random_state=SEED)"
   ]
  },
  {
   "cell_type": "code",
   "execution_count": null,
   "id": "2c9865f2",
   "metadata": {},
   "outputs": [],
   "source": [
    "df_full_train.to_csv('df_full_train.csv', index=False)\n",
    "df_test.to_csv('df_test.csv', index=False)"
   ]
  },
  {
   "cell_type": "code",
   "execution_count": null,
   "id": "f82014d4",
   "metadata": {},
   "outputs": [],
   "source": [
    "y_train = df_train[\"class\"].values\n",
    "y_val = df_val[\"class\"].values\n",
    "y_test = df_test[\"class\"].values\n",
    "\n",
    "del df_train['class']\n",
    "del df_test['class']\n",
    "del df_val['class']"
   ]
  },
  {
   "cell_type": "code",
   "execution_count": null,
   "id": "b12186a9",
   "metadata": {},
   "outputs": [],
   "source": [
    "print(f'Shape y_train: {y_train.shape}')\n",
    "print(f'Shape y_val: {y_val.shape}')\n",
    "print(f'Shape y_test: {y_test.shape}')\n",
    "print(f'Shape df_train: {df_train.shape}')\n",
    "print(f'Shape df_val: {df_val.shape}')\n",
    "print(f'Shape df_test: {df_test.shape}')"
   ]
  },
  {
   "cell_type": "code",
   "execution_count": null,
   "id": "5c3f6294",
   "metadata": {},
   "outputs": [],
   "source": [
    "tmp_model = LogisticRegression(\n",
    "    penalty='l2',\n",
    "    C=1.0,\n",
    "    solver='liblinear',\n",
    "    random_state=SEED,\n",
    "    max_iter=1000,\n",
    "    n_jobs=-1\n",
    ")\n",
    "tmp_model.fit(df_train, y_train)"
   ]
  },
  {
   "cell_type": "code",
   "execution_count": null,
   "id": "bda69d44",
   "metadata": {},
   "outputs": [],
   "source": [
    "feature_importance = pd.DataFrame({\n",
    "    'feature': df_train.columns,\n",
    "    'importance': tmp_model.coef_[0]\n",
    "}).sort_values(by='importance', key=abs, ascending=False)\n",
    "\n",
    "feature_importance.reset_index(drop=True, inplace=True)\n",
    "feature_importance.T"
   ]
  },
  {
   "cell_type": "code",
   "execution_count": null,
   "id": "41c18115",
   "metadata": {},
   "outputs": [],
   "source": [
    "plt.figure(figsize=(16, 8))\n",
    "\n",
    "for feature in df_val.columns:\n",
    "    # Fit a univariate logistic regression model\n",
    "    model = LogisticRegression(solver='liblinear', random_state=SEED)\n",
    "    model.fit(df_train[[feature]], y_train)\n",
    "    y_val_pred_proba = model.predict_proba(df_val[[feature]])[:, 1]\n",
    "    fpr, tpr, _ = roc_curve(y_val, y_val_pred_proba)\n",
    "    roc_auc = auc(fpr, tpr)\n",
    "    plt.plot(fpr, tpr, lw=1, label=f'{feature} (AUC={roc_auc:.2f})')\n",
    "\n",
    "plt.plot([0, 1], [0, 1], color='grey', lw=1, linestyle='--')    \n",
    "plt.xlabel('False Positive Rate')\n",
    "plt.ylabel('True Positive Rate')\n",
    "plt.title('ROC Curve for Each Feature')\n",
    "plt.legend(fontsize='small', loc='lower right', ncol=2)\n",
    "plt.grid(True)\n",
    "plt.tight_layout()\n",
    "plt.show()\n",
    "\n",
    "plt.savefig('images/eda_roc_curve_features.png', dpi=300)"
   ]
  },
  {
   "cell_type": "code",
   "execution_count": null,
   "id": "5e4f9435",
   "metadata": {},
   "outputs": [],
   "source": [
    "# Get predicted probabilities for each set\n",
    "y_train_pred_proba = tmp_model.predict_proba(df_train)[:, 1]\n",
    "y_val_pred_proba = tmp_model.predict_proba(df_val)[:, 1]\n",
    "y_test_pred_proba = tmp_model.predict_proba(df_test)[:, 1]\n",
    "\n",
    "# Compute ROC curves\n",
    "fpr_train, tpr_train, _ = roc_curve(y_train, y_train_pred_proba)\n",
    "fpr_val, tpr_val, _ = roc_curve(y_val, y_val_pred_proba)\n",
    "fpr_test, tpr_test, _ = roc_curve(y_test, y_test_pred_proba)\n",
    "\n",
    "# Save results in a DataFrame\n",
    "roc_df = pd.DataFrame({\n",
    "    'fpr_train': pd.Series(fpr_train),\n",
    "    'tpr_train': pd.Series(tpr_train),\n",
    "    'fpr_val': pd.Series(fpr_val),\n",
    "    'tpr_val': pd.Series(tpr_val),\n",
    "    'fpr_test': pd.Series(fpr_test),\n",
    "    'tpr_test': pd.Series(tpr_test),\n",
    "})"
   ]
  },
  {
   "cell_type": "code",
   "execution_count": null,
   "id": "8a43d68b",
   "metadata": {},
   "outputs": [],
   "source": [
    "fig = go.Figure()\n",
    "\n",
    "fig.add_trace(go.Scatter(\n",
    "    x=fpr_train, y=tpr_train,\n",
    "    mode='lines',\n",
    "    name='Train',\n",
    "    visible=True\n",
    "))\n",
    "fig.add_trace(go.Scatter(\n",
    "    x=fpr_val, y=tpr_val,\n",
    "    mode='lines',\n",
    "    name='Validation',\n",
    "    visible='legendonly'\n",
    "))\n",
    "fig.add_trace(go.Scatter(\n",
    "    x=fpr_test, y=tpr_test,\n",
    "    mode='lines',\n",
    "    name='Test',\n",
    "    visible='legendonly'\n",
    "))\n",
    "\n",
    "fig.update_layout(\n",
    "    title='ROC Curve (Train, Validation, Test)',\n",
    "    xaxis_title='False Positive Rate',\n",
    "    yaxis_title='True Positive Rate',\n",
    "    legend_title='Dataset',\n",
    "    width=800,\n",
    "    height=500\n",
    ")\n",
    "\n",
    "fig.show()\n",
    "\n",
    "fig.write_html('images/roc_curve_train_val_test.html')"
   ]
  },
  {
   "cell_type": "markdown",
   "id": "0160298b",
   "metadata": {},
   "source": [
    "### Correlation between features"
   ]
  },
  {
   "cell_type": "code",
   "execution_count": null,
   "id": "65e8bcda",
   "metadata": {},
   "outputs": [],
   "source": [
    "df_corr = df.corr()\n",
    "df_corr['class'].abs().sort_values(ascending=False)"
   ]
  },
  {
   "cell_type": "code",
   "execution_count": null,
   "id": "dd7cd40e",
   "metadata": {},
   "outputs": [],
   "source": [
    "f, ax = plt.subplots(figsize=(20,4))\n",
    "\n",
    "my_plot = sns.heatmap(\n",
    "    # corr_train,\n",
    "    df_corr.filter(items=['class']).sort_values(by='class', ascending=False).T,\n",
    "    cmap=sns.color_palette(\"coolwarm\"),\n",
    "    linewidths=0.5,\n",
    "    annot=True,\n",
    "    vmax=0.8,\n",
    "    fmt=\".2f\",\n",
    "    # square=True\n",
    ")\n",
    "\n",
    "my_plot.set_xticklabels(my_plot.get_xticklabels(), rotation=45)\n",
    "\n",
    "#modify individual font size of elements\n",
    "plt.tick_params(axis='both', which='major', labelsize=12)\n",
    "plt.xlabel('Variables', fontsize=14)\n",
    "plt.ylabel('Correlation', fontsize=14)\n",
    "plt.title('Pearson Correlation with Class', fontsize=16)\n",
    "plt.xticks(rotation=45, ha='right')\n",
    "plt.tight_layout()\n",
    "\n",
    "plt.show()\n",
    "plt.savefig('./images/eda_pearson_correlation_heatmap.png', dpi=300)"
   ]
  },
  {
   "cell_type": "code",
   "execution_count": null,
   "id": "f5bc88e3",
   "metadata": {},
   "outputs": [],
   "source": [
    "plt.figure(figsize=(18, 14))\n",
    "sns.heatmap(df_corr, annot=True, vmax=0.8, fmt=\".2f\", linewidths=.5, square=True)\n",
    "plt.title('Correlation Heatmap')\n",
    "plt.tight_layout()\n",
    "plt.show()"
   ]
  },
  {
   "cell_type": "code",
   "execution_count": null,
   "id": "8b166778",
   "metadata": {},
   "outputs": [],
   "source": []
  }
 ],
 "metadata": {
  "kernelspec": {
   "display_name": ".venv",
   "language": "python",
   "name": "python3"
  },
  "language_info": {
   "codemirror_mode": {
    "name": "ipython",
    "version": 3
   },
   "file_extension": ".py",
   "mimetype": "text/x-python",
   "name": "python",
   "nbconvert_exporter": "python",
   "pygments_lexer": "ipython3",
   "version": "3.12.8"
  }
 },
 "nbformat": 4,
 "nbformat_minor": 5
}
